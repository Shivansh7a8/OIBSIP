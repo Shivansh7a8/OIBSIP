{
  "nbformat": 4,
  "nbformat_minor": 0,
  "metadata": {
    "colab": {
      "provenance": []
    },
    "kernelspec": {
      "name": "python3",
      "display_name": "Python 3"
    },
    "language_info": {
      "name": "python"
    }
  },
  "cells": [
    {
      "cell_type": "markdown",
      "source": [
        "*SHIVANSH SHUKLA TASK 1 *"
      ],
      "metadata": {
        "id": "kM5WYQWZn7lm"
      }
    },
    {
      "cell_type": "code",
      "execution_count": null,
      "metadata": {
        "id": "UtHuxCK8tW-z"
      },
      "outputs": [],
      "source": [
        "# Iris Flower Classification model\n",
        "# Import Packages\n",
        "import numpy as np\n",
        "import matplotlib.pyplot as plt\n",
        "import seaborn as sns\n",
        "import pandas as pd\n",
        "%matplotlib inline\n",
        "from sklearn.metrics import accuracy_score,confusion_matrix\n",
        "from sklearn.metrics import classification_report\n",
        "from sklearn.model_selection import train_test_split"
      ]
    },
    {
      "cell_type": "code",
      "source": [
        "# Load the data\n",
        "df=pd.read_csv('Iris.csv')\n",
        "#df.tail()\n",
        "df.head()"
      ],
      "metadata": {
        "id": "hyUcOvDaIusW"
      },
      "execution_count": null,
      "outputs": []
    },
    {
      "cell_type": "code",
      "source": [
        "#multivariate visualization technique pandas has is parallel_coordinates\n",
        "from pandas.plotting import parallel_coordinates\n",
        "parallel_coordinates(df.drop(\"Id\", axis=1), \"Species\")"
      ],
      "metadata": {
        "id": "B51uI8CiXMm2"
      },
      "execution_count": null,
      "outputs": []
    },
    {
      "cell_type": "code",
      "source": [
        "# Description\n",
        "df.describe()"
      ],
      "metadata": {
        "id": "JBTrbyhkuZRP"
      },
      "execution_count": null,
      "outputs": []
    },
    {
      "cell_type": "code",
      "source": [
        "print(\"Target Labels\", df[\"Species\"].unique())"
      ],
      "metadata": {
        "colab": {
          "base_uri": "https://localhost:8080/"
        },
        "id": "etfwPwNmug0s",
        "outputId": "58fa5232-fdc7-4c01-825c-41fc6d3220f6"
      },
      "execution_count": null,
      "outputs": [
        {
          "output_type": "stream",
          "name": "stdout",
          "text": [
            "Target Labels ['Iris-setosa' 'Iris-versicolor' 'Iris-virginica']\n"
          ]
        }
      ]
    },
    {
      "cell_type": "code",
      "source": [
        "import plotly.express as px\n",
        "fig = px.scatter(df, x=\"SepalWidthCm\", y=\"SepalLengthCm\", color=\"Species\")\n",
        "fig.show()"
      ],
      "metadata": {
        "id": "VZZviahdwLxM"
      },
      "execution_count": null,
      "outputs": []
    },
    {
      "cell_type": "code",
      "source": [
        "# Count of all Species\n",
        "df['Species'].value_counts()"
      ],
      "metadata": {
        "id": "HrqfKvSHyXji"
      },
      "execution_count": null,
      "outputs": []
    },
    {
      "cell_type": "code",
      "source": [
        "#Drop unwanted columns\n",
        "df=df.drop(columns=\"Id\")"
      ],
      "metadata": {
        "id": "XdvIkQ60XaxS"
      },
      "execution_count": null,
      "outputs": []
    },
    {
      "cell_type": "code",
      "source": [
        "df.columns"
      ],
      "metadata": {
        "id": "dM7hstLdr7Jc"
      },
      "execution_count": null,
      "outputs": []
    },
    {
      "cell_type": "code",
      "source": [
        "df.info()"
      ],
      "metadata": {
        "id": "QzN_fH4ENOml"
      },
      "execution_count": null,
      "outputs": []
    },
    {
      "cell_type": "code",
      "source": [
        "#checking for null values\n",
        "df.isnull().sum()"
      ],
      "metadata": {
        "id": "EF2ChIQnO0na"
      },
      "execution_count": null,
      "outputs": []
    },
    {
      "cell_type": "code",
      "source": [
        "sns.boxplot(x=\"Species\", y=\"PetalLengthCm\", data=df)"
      ],
      "metadata": {
        "id": "El6GpzmKPDB_"
      },
      "execution_count": null,
      "outputs": []
    },
    {
      "cell_type": "code",
      "source": [
        "x=df.iloc[:,:4]\n",
        "y=df.iloc[:,4]"
      ],
      "metadata": {
        "id": "Cwi6OLwcPgCx"
      },
      "execution_count": null,
      "outputs": []
    },
    {
      "cell_type": "code",
      "source": [
        "print(x)"
      ],
      "metadata": {
        "id": "QA9ilocZPh7v"
      },
      "execution_count": null,
      "outputs": []
    },
    {
      "cell_type": "code",
      "source": [
        "# dividing dataset in train and test part\n",
        "x_train,x_test,y_train,y_test=train_test_split(x,y,random_state=0)"
      ],
      "metadata": {
        "id": "KBDeZcgBP08E"
      },
      "execution_count": null,
      "outputs": []
    },
    {
      "cell_type": "code",
      "source": [
        "print(\"X_train shape: {}\".format(x_train.shape))\n",
        "print(\"y_train shape: {}\".format(y_train.shape))\n",
        "print(\"X_test shape: {}\".format(x_test.shape))\n",
        "print(\"y_test shape: {}\".format(y_test.shape))"
      ],
      "metadata": {
        "id": "3PLT48doP2la"
      },
      "execution_count": null,
      "outputs": []
    },
    {
      "cell_type": "code",
      "source": [
        "#Creating the Model"
      ],
      "metadata": {
        "id": "ezBPa3Nwc3DG"
      },
      "execution_count": null,
      "outputs": []
    },
    {
      "cell_type": "markdown",
      "source": [
        " we are going to classify the Iris flowers dataset using Two model"
      ],
      "metadata": {
        "id": "yx8z7GQSQptM"
      }
    },
    {
      "cell_type": "code",
      "source": [
        "from sklearn.linear_model import LogisticRegression\n",
        "model=LogisticRegression()"
      ],
      "metadata": {
        "id": "J7ZJza2WQoqs"
      },
      "execution_count": null,
      "outputs": []
    },
    {
      "cell_type": "code",
      "source": [
        "model.fit(x_train,y_train)"
      ],
      "metadata": {
        "id": "n-zQy9HqQvzB"
      },
      "execution_count": null,
      "outputs": []
    },
    {
      "cell_type": "code",
      "source": [
        "# LogisticRegression\n",
        "classifier = LogisticRegression()\n",
        "classifier.fit(x_train, y_train)\n",
        "\n",
        "y_pred = classifier.predict(x_test)\n",
        "\n",
        "print(y_pred)"
      ],
      "metadata": {
        "id": "w8SIP6-_bKXm"
      },
      "execution_count": null,
      "outputs": []
    },
    {
      "cell_type": "code",
      "source": [
        "# Summary of the predictions made by the classifier\n",
        "print('Classification Report\\n',classification_report(y_test, y_pred))\n",
        "print('Confusion Matrix\\n',confusion_matrix(y_test, y_pred))"
      ],
      "metadata": {
        "id": "VHXKTFHlhnd3"
      },
      "execution_count": null,
      "outputs": []
    },
    {
      "cell_type": "code",
      "source": [
        "from sklearn.metrics import accuracy_score\n",
        "print('\\naccuracy of this model is', accuracy_score(y_pred,y_test)*100)"
      ],
      "metadata": {
        "id": "FuOY7dTkhsuM"
      },
      "execution_count": null,
      "outputs": []
    },
    {
      "cell_type": "markdown",
      "source": [
        "we got an accuracy of 97.37%, which shows that the model we built is very accurate."
      ],
      "metadata": {
        "id": "3lZPnEPqTUWm"
      }
    },
    {
      "cell_type": "code",
      "source": [
        "#The accuracy score tells us how accurately the model we build will predict  \n",
        "#The confusion matrix has a matrix with Actual values and predicted values"
      ],
      "metadata": {
        "id": "FJaW2sXSckUH"
      },
      "execution_count": null,
      "outputs": []
    },
    {
      "cell_type": "markdown",
      "source": [
        "Second Model for classification"
      ],
      "metadata": {
        "id": "vLuYQWXvZeBm"
      }
    },
    {
      "cell_type": "code",
      "source": [
        "# Gaussian Naive Bayes\n",
        "from sklearn.naive_bayes import GaussianNB\n",
        "classifier = GaussianNB()\n",
        "classifier.fit(x_train, y_train)\n",
        "\n",
        "y_pred = classifier.predict(x_test)\n",
        "print(y_pred)"
      ],
      "metadata": {
        "id": "Qh6MHqObYbB2"
      },
      "execution_count": null,
      "outputs": []
    },
    {
      "cell_type": "code",
      "source": [
        "# Summary of the predictions made by the classifier\n",
        "print('Classification Report\\n',classification_report(y_test, y_pred))\n",
        "print('Confusion Matrix\\n',confusion_matrix(y_test, y_pred))"
      ],
      "metadata": {
        "id": "PNrUuCe7hyO-"
      },
      "execution_count": null,
      "outputs": []
    },
    {
      "cell_type": "code",
      "source": [
        "# Accuracy score\n",
        "from sklearn.metrics import accuracy_score\n",
        "print('\\naccuracy of this model is',accuracy_score(y_pred,y_test)*100,'%')"
      ],
      "metadata": {
        "id": "PxWDlAOsh07y"
      },
      "execution_count": null,
      "outputs": []
    },
    {
      "cell_type": "markdown",
      "source": [
        "we got an accuracy of 100%, which shows that the model we built is very accurate."
      ],
      "metadata": {
        "id": "lNqBgX3cbglX"
      }
    }
  ]
}